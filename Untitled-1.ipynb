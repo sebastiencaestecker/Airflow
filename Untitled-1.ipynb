{
 "cells": [
  {
   "cell_type": "code",
   "execution_count": 1,
   "metadata": {},
   "outputs": [
    {
     "name": "stderr",
     "output_type": "stream",
     "text": [
      "C:\\Users\\le-li\\AppData\\Local\\Temp\\ipykernel_35304\\3968546093.py:3: DtypeWarning: Columns (0) have mixed types. Specify dtype option on import or set low_memory=False.\n",
      "  df = pd.read_csv(\"https://www.data.gouv.fr/fr/datasets/r/5c4e1452-3850-4b59-b11c-3dd51d7fb8b5\")\n"
     ]
    }
   ],
   "source": [
    "import pandas as pd\n",
    "\n",
    "df = pd.read_csv(\"https://www.data.gouv.fr/fr/datasets/r/5c4e1452-3850-4b59-b11c-3dd51d7fb8b5\")\n"
   ]
  },
  {
   "cell_type": "code",
   "execution_count": 7,
   "metadata": {},
   "outputs": [
    {
     "name": "stdout",
     "output_type": "stream",
     "text": [
      "<class 'pandas.core.frame.DataFrame'>\n",
      "RangeIndex: 121200 entries, 0 to 121199\n",
      "Data columns (total 22 columns):\n",
      " #   Column         Non-Null Count   Dtype  \n",
      "---  ------         --------------   -----  \n",
      " 0   dep            121200 non-null  object \n",
      " 1   date           121200 non-null  object \n",
      " 2   reg            121200 non-null  int64  \n",
      " 3   lib_dep        121200 non-null  object \n",
      " 4   lib_reg        121200 non-null  object \n",
      " 5   tx_pos         115241 non-null  float64\n",
      " 6   tx_incid       115241 non-null  float64\n",
      " 7   TO             121200 non-null  float64\n",
      " 8   R              18050 non-null   float64\n",
      " 9   hosp           121200 non-null  int64  \n",
      " 10  rea            121200 non-null  int64  \n",
      " 11  rad            121200 non-null  int64  \n",
      " 12  dchosp         121200 non-null  int64  \n",
      " 13  reg_rea        121200 non-null  int64  \n",
      " 14  incid_hosp     121099 non-null  float64\n",
      " 15  incid_rea      121099 non-null  float64\n",
      " 16  incid_rad      121099 non-null  float64\n",
      " 17  incid_dchosp   121099 non-null  float64\n",
      " 18  reg_incid_rea  121099 non-null  float64\n",
      " 19  pos            115241 non-null  float64\n",
      " 20  pos_7j         115241 non-null  float64\n",
      " 21  cv_dose1       101 non-null     float64\n",
      "dtypes: float64(12), int64(6), object(4)\n",
      "memory usage: 20.3+ MB\n"
     ]
    }
   ],
   "source": [
    "df.info()"
   ]
  },
  {
   "cell_type": "code",
   "execution_count": 8,
   "metadata": {},
   "outputs": [],
   "source": [
    "data=df[['date','incid_hosp']]"
   ]
  },
  {
   "cell_type": "code",
   "execution_count": 10,
   "metadata": {},
   "outputs": [],
   "source": [
    "data.to_csv('exo_covid.csv', index=False)"
   ]
  }
 ],
 "metadata": {
  "kernelspec": {
   "display_name": "base",
   "language": "python",
   "name": "python3"
  },
  "language_info": {
   "codemirror_mode": {
    "name": "ipython",
    "version": 3
   },
   "file_extension": ".py",
   "mimetype": "text/x-python",
   "name": "python",
   "nbconvert_exporter": "python",
   "pygments_lexer": "ipython3",
   "version": "3.9.13"
  }
 },
 "nbformat": 4,
 "nbformat_minor": 2
}
